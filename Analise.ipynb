{
 "cells": [
  {
   "cell_type": "code",
   "execution_count": null,
   "metadata": {},
   "outputs": [],
   "source": [
    "# Passo a passo\n",
    "# Passo 1: Importar base de dados\n",
    "# Passo 2: Visualizar base de dados\n",
    "# Passo 3: Corrigir cagadas da base de dados\n",
    "# Passo 4: Análise dos cancelamentos\n",
    "# Passo 5: Análise da causa dos cancelamentos (como as colunas impactam no cancelamento?)\n",
    "\n",
    "\n",
    "# Passo 1: Importar a base de dados\n",
    "import pandas as pd\n",
    "\n",
    "tabela = pd.read_csv(\"cancelamentos_sample.csv\")\n",
    "\n",
    "# Passo 2: Visualizar a base de dados\n",
    "tabela = tabela.drop(columns=\"CustomerID\")\n",
    "display(tabela)\n",
    "# Colunas inúteis - informações que não te ajudam, te atrapalham\n"
   ]
  },
  {
   "cell_type": "code",
   "execution_count": null,
   "metadata": {},
   "outputs": [],
   "source": [
    "# Passo 3: Corrigir os erros da base de dados\n",
    "display(tabela.info())\n",
    "# Valores vazios - Excluir as linhas que têm valores vazios\n",
    "tabela = tabela.dropna()\n",
    "\n",
    "display(tabela.info())"
   ]
  },
  {
   "cell_type": "code",
   "execution_count": null,
   "metadata": {},
   "outputs": [],
   "source": [
    "# Passo 4: Análise inicial dos cancelamentos\n",
    "\n",
    "# Quantas pessoas cancelaram e quantas não cancelaram\n",
    "display(tabela[\"cancelou\"].value_counts())\n",
    "\n",
    "# Em percentual\n",
    "display(tabela[\"cancelou\"].value_counts(normalize=True))\n",
    "# display(tabela[\"cancelou\"].value_counts(normalize=True).map(\"{:.1%}\".format))"
   ]
  },
  {
   "cell_type": "code",
   "execution_count": null,
   "metadata": {},
   "outputs": [],
   "source": [
    "# Passo 5: Análise das causas dos cancelamentos (como as colunas da base impactam no cancelamento)\n",
    "# gráficos/dashboards\n",
    "import plotly.express as px\n",
    "\n",
    "# Criar o grafico\n",
    "\n",
    "for coluna in tabela.columns:\n",
    "    grafico = px.histogram(tabela, x=coluna, color=\"cancelou\")\n",
    "    # Exibir o grafico\n",
    "    grafico.show()"
   ]
  },
  {
   "cell_type": "code",
   "execution_count": null,
   "metadata": {},
   "outputs": [],
   "source": [
    "# Clientes do contrato mensal, todos cancelam\n",
    "    # Ofercer descontos nos planos anuais e trimestrais\n",
    "# Clientes que ligam mais do que 4 vezes para o call center, cancelam\n",
    "    # Criar um processo para resolver o problema do cliente em no máximo 3 ligações\n",
    "# Clientes que atrasaram mais de 20 dias, cancelaram\n",
    "    # Política de resolver atrasos em até 10 dias (equipe financeira)\n",
    "\n",
    "tabela = tabela[tabela[\"duracao_contrato\"]!=\"Monthly\"]\n",
    "tabela = tabela[tabela[\"ligacoes_callcenter\"]<=4]\n",
    "tabela = tabela[tabela[\"dias_atraso\"]<=20]\n",
    "\n",
    "display(tabela[\"cancelou\"].value_counts())\n",
    "# Em percentual\n",
    "display(tabela[\"cancelou\"].value_counts(normalize=True))\n"
   ]
  }
 ],
 "metadata": {
  "kernelspec": {
   "display_name": "base",
   "language": "python",
   "name": "python3"
  },
  "language_info": {
   "codemirror_mode": {
    "name": "ipython",
    "version": 3
   },
   "file_extension": ".py",
   "mimetype": "text/x-python",
   "name": "python",
   "nbconvert_exporter": "python",
   "pygments_lexer": "ipython3",
   "version": "3.12.2"
  },
  "orig_nbformat": 4
 },
 "nbformat": 4,
 "nbformat_minor": 2
}
